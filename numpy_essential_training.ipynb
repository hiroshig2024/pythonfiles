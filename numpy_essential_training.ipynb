{
 "cells": [
  {
   "cell_type": "code",
   "execution_count": 12,
   "id": "8a1246bb",
   "metadata": {},
   "outputs": [
    {
     "name": "stdout",
     "output_type": "stream",
     "text": [
      "[10 20 30 40 50]\n",
      "[1.2 2.3 3.4 5.1 8.3]\n"
     ]
    },
    {
     "data": {
      "text/plain": [
       "dtype('float64')"
      ]
     },
     "execution_count": 12,
     "metadata": {},
     "output_type": "execute_result"
    }
   ],
   "source": [
    "import numpy as np\n",
    "integers=np.array([10,20,30,40,50])\n",
    "print (integers)\n",
    "integers[0]=20\n",
    "integers\n",
    "integers.dtype\n",
    "smallerintegers=np.array(integers,dtype=np.int8)\n",
    "smallerintegers\n",
    "integers.nbytes\n",
    "smallerintegers.nbytes\n",
    "integers.nbytes\n",
    "floats=np.array([1.2,2.3,3.4,5.1,8.3])\n",
    "print (floats)\n",
    "floats.dtype"
   ]
  },
  {
   "cell_type": "code",
   "execution_count": 27,
   "id": "46758aa2",
   "metadata": {},
   "outputs": [
    {
     "data": {
      "text/plain": [
       "18"
      ]
     },
     "execution_count": 27,
     "metadata": {},
     "output_type": "execute_result"
    }
   ],
   "source": [
    "import numpy as np\n",
    "nums=np.array([[1,2,3,4,5],[6,7,8,9,10]])\n",
    "nums\n",
    "nums[0,0]\n",
    "nums[1,4]\n",
    "nums.ndim\n",
    "multi_array=np.array([[[1,2,3],[6,7,8]],\n",
    "            [[11,12,13],[16,17,18]]])\n",
    "multi_array\n",
    "multi_array[1,1,2]"
   ]
  },
  {
   "cell_type": "code",
   "execution_count": 38,
   "id": "b8ecc90f",
   "metadata": {},
   "outputs": [
    {
     "data": {
      "text/plain": [
       "array([[[ 1,  2,  3],\n",
       "        [ 6,  7,  8]],\n",
       "\n",
       "       [[11, 12, 13],\n",
       "        [16, 17, 18]]])"
      ]
     },
     "execution_count": 38,
     "metadata": {},
     "output_type": "execute_result"
    }
   ],
   "source": [
    "import numpy as np\n",
    "first_list=[1,2,3,4,5,6,7,8,9,10]\n",
    "first_list\n",
    "first_array=np.array(first_list)\n",
    "first_array\n",
    "second_list=[1,2,3,-1,23,50,128000.56,4.56]\n",
    "second_array=np.array(second_list)\n",
    "second_array\n",
    "second_array.dtype\n",
    "third_list=['ann',111111,'peter',111112,'susan',111113,'john',111114]\n",
    "third_array=np.array(third_list)\n",
    "third_array\n",
    "first_tuple=(5,10,15,20,25,30)\n",
    "array_from_tuple=np.array(first_tuple)\n",
    "array_from_tuple\n",
    "array_from_tuple.dtype\n",
    "multi_dim_list=([[[1,2,3],[6,7,8]],\n",
    "            [[11,12,13],[16,17,18]]])\n",
    "multi_dim_list\n",
    "arr_from_multi_dim_list=np.array(multi_dim_list)\n",
    "arr_from_multi_dim_list\n",
    "\n",
    "\n"
   ]
  },
  {
   "cell_type": "code",
   "execution_count": 49,
   "id": "941e255d",
   "metadata": {},
   "outputs": [
    {
     "data": {
      "text/plain": [
       "array([83, 18, 19, 79, 51, 64, 23, 35,  5, 81, 33, 42, 84, 58, 86, 14, 17,\n",
       "       94, 85, 31])"
      ]
     },
     "execution_count": 49,
     "metadata": {},
     "output_type": "execute_result"
    }
   ],
   "source": [
    "import numpy as np\n",
    "integers_array=np.arange(10)\n",
    "integers_array\n",
    "integers_second_array=np.arange(100,130)\n",
    "integers_second_array\n",
    "integers_third_array=np.arange(100,151,2)\n",
    "integers_third_array\n",
    "first_floats_arr=np.linspace(10,20)\n",
    "first_floats_arr\n",
    "second_floats_arr=np.linspace(10,20,5)\n",
    "second_floats_arr\n",
    "integers_third_array\n",
    "first_rand_arr=np.random.rand(10)\n",
    "first_rand_arr\n",
    "second_rand_arr=np.random.rand(4,4)\n",
    "second_rand_arr\n",
    "third_rand_arr=np.random.randint(0,100,20)\n",
    "third_rand_arr"
   ]
  },
  {
   "cell_type": "code",
   "execution_count": 61,
   "id": "2cc6df3c",
   "metadata": {},
   "outputs": [
    {
     "data": {
      "text/plain": [
       "array([[8, 8, 8, 8, 8],\n",
       "       [8, 8, 8, 8, 8],\n",
       "       [8, 8, 8, 8, 8],\n",
       "       [8, 8, 8, 8, 8]])"
      ]
     },
     "execution_count": 61,
     "metadata": {},
     "output_type": "execute_result"
    }
   ],
   "source": [
    "import numpy as np\n",
    "first_z_array=np.zeros(5)\n",
    "first_z_array\n",
    "second_z_array=np.zeros((4,5))\n",
    "second_z_array\n",
    "third_z_array=np.zeros(((5,5,5)))\n",
    "third_z_array\n",
    "third_ones_array=np.ones((4,5),dtype=int)\n",
    "third_ones_array\n",
    "first_fill_array=np.empty(10,dtype=int)\n",
    "first_fill_array.fill(12)\n",
    "first_fill_array\n",
    "first_full_array=np.full(5,10)\n",
    "first_full_array\n",
    "second_full_array=np.full((4,5),8)\n",
    "second_full_array"
   ]
  },
  {
   "cell_type": "code",
   "execution_count": 69,
   "id": "eedff39f",
   "metadata": {},
   "outputs": [
    {
     "data": {
      "text/plain": [
       "array([[[10, 10],\n",
       "        [10, 10]],\n",
       "\n",
       "       [[10, 10],\n",
       "        [10, 10]]])"
      ]
     },
     "execution_count": 69,
     "metadata": {},
     "output_type": "execute_result"
    }
   ],
   "source": [
    "import numpy as np\n",
    "first_arr=np.arange(20)\n",
    "first_arr\n",
    "second_arr=np.linspace((1,2),(10,20),10)\n",
    "second_arr\n",
    "third_arr=np.full((2,2,2),10)\n",
    "third_arr\n",
    "np.shape(first_arr)\n",
    "second_arr\n",
    "np.shape(second_arr)\n",
    "third_arr\n"
   ]
  },
  {
   "cell_type": "code",
   "execution_count": 82,
   "id": "f5039a45",
   "metadata": {},
   "outputs": [
    {
     "name": "stdout",
     "output_type": "stream",
     "text": [
      "[ 0  0  1  1  1  4  6  6  7  7  9  9  9 10 10 11 14 16 17 19]\n",
      "[[2 3 4 5 7]\n",
      " [0 1 3 5 8]]\n",
      "['black' 'green' 'orange' 'pink' 'white' 'yellow']\n"
     ]
    }
   ],
   "source": [
    "second_arr=np.array([1,2,3,4])\n",
    "second_arr\n",
    "new_second_arr=np.append(second_arr,5)\n",
    "new_second_arr\n",
    "third_arr=np.array([1,2,3,4,5])\n",
    "third_arr\n",
    "del_arr=np.delete(third_arr,4)\n",
    "del_arr\n",
    "integers_arr=np.random.randint(0,20,20)\n",
    "integers_arr\n",
    "print(np.sort(integers_arr))\n",
    "integers_2dim_arr=np.array([[3,2,5,7,4],[5,0,8,3,1]])\n",
    "integers_2dim_arr\n",
    "print(np.sort(integers_2dim_arr))\n",
    "colors=np.array(['orange','green','yellow','white','black','pink'])\n",
    "colors\n",
    "print(np.sort(colors))"
   ]
  },
  {
   "cell_type": "code",
   "execution_count": null,
   "id": "adafc5db",
   "metadata": {},
   "outputs": [
    {
     "name": "stdout",
     "output_type": "stream",
     "text": [
      "id of students ids number 2515941762176\n",
      "id of students ids number reg 2515941762176\n"
     ]
    }
   ],
   "source": [
    "import numpy as np\n",
    "students_ids_number=([1111,1212,1313,1414,1515,1616,1717,1818])\n",
    "students_ids_number\n",
    "students_ids_number_reg=students_ids_number\n",
    "print('id of students ids number',id(students_ids_number))\n",
    "print('id of students ids number reg',id(students_ids_number_reg))\n",
    "students_ids_number_cp=students_ids_number.copy()\n",
    "print(students_ids_number.cp)\n",
    "print('id of students ids number',id(students_ids_number))\n",
    "print('id of students ids number',id(students_ids_number_cp))\n",
    "\n",
    "\n",
    "\n"
   ]
  }
 ],
 "metadata": {
  "kernelspec": {
   "display_name": "Python 3",
   "language": "python",
   "name": "python3"
  },
  "language_info": {
   "codemirror_mode": {
    "name": "ipython",
    "version": 3
   },
   "file_extension": ".py",
   "mimetype": "text/x-python",
   "name": "python",
   "nbconvert_exporter": "python",
   "pygments_lexer": "ipython3",
   "version": "3.12.7"
  }
 },
 "nbformat": 4,
 "nbformat_minor": 5
}
