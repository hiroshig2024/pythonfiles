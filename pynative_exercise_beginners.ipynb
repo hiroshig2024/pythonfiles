{
 "cells": [
  {
   "cell_type": "code",
   "execution_count": null,
   "id": "4a2d2893",
   "metadata": {},
   "outputs": [
    {
     "name": "stdout",
     "output_type": "stream",
     "text": [
      "The result is 600\n",
      "The result is 70\n"
     ]
    }
   ],
   "source": [
    "def multiplication_or_sum(num1, num2):\n",
    "    #Exercise 1: Calculate the multiplication and sum of two numbers\n",
    "    #Given two integer numbers, write a Python program to return their product only if the product is equal to or lower than 1000. Otherwise, return their sum.\n",
    "    # calculate product of two number\n",
    "    product = num1 * num2\n",
    "    # check if product is less then 1000\n",
    "    if product <= 1000:\n",
    "        return product\n",
    "    else:\n",
    "        # product is greater than 1000 calculate sum\n",
    "        return num1 + num2\n",
    "\n",
    "# first condition\n",
    "result = multiplication_or_sum(20, 30)\n",
    "print(\"The result is\", result)\n",
    "\n",
    "# Second condition\n",
    "result = multiplication_or_sum(40, 30)\n",
    "print(\"The result is\", result)"
   ]
  },
  {
   "cell_type": "code",
   "execution_count": 6,
   "id": "92dd870c",
   "metadata": {},
   "outputs": [
    {
     "name": "stdout",
     "output_type": "stream",
     "text": [
      "Original String: abcdefgh\n",
      "Printing only even index chars\n",
      "index[ 0 ] a\n",
      "index[ 2 ] c\n",
      "index[ 4 ] e\n",
      "index[ 6 ] g\n"
     ]
    }
   ],
   "source": [
    "#Exercise 3: Print characters present at an even index number\n",
    "#Write a Python code to accept a string from the user and display characters present at an even index number.\n",
    "# accept input string from a user\n",
    "word = input('Enter word ')\n",
    "print(\"Original String:\", word)\n",
    "\n",
    "# get the length of a string\n",
    "size = len(word)\n",
    "\n",
    "# iterate a each character of a string\n",
    "# start: 0 to start with first character\n",
    "# stop: size-1 because index starts with 0\n",
    "# step: 2 to get the characters present at even index like 0, 2, 4\n",
    "print(\"Printing only even index chars\")\n",
    "for i in range(0, size - 1, 2):\n",
    "    print(\"index[\", i, \"]\", word[i])"
   ]
  },
  {
   "cell_type": "code",
   "execution_count": 10,
   "id": "0c5d9294",
   "metadata": {},
   "outputs": [
    {
     "name": "stdout",
     "output_type": "stream",
     "text": [
      "Removing characters from a string\n",
      "Original string: pynative\n",
      "ive\n",
      "Original string: pynative\n",
      "native\n"
     ]
    }
   ],
   "source": [
    "#Exercise 4: Remove first n characters from a string\n",
    "#Write a Python code to remove characters from a string from 0 to n and return a new string\n",
    "def remove_chars(word, n):\n",
    "    print('Original string:', word)\n",
    "    x = word[n:]\n",
    "    return x\n",
    "\n",
    "print(\"Removing characters from a string\")\n",
    "print(remove_chars(\"pynative\", 5))\n",
    "print(remove_chars(\"pynative\", 2))"
   ]
  },
  {
   "cell_type": "code",
   "execution_count": null,
   "id": "3d5a9812",
   "metadata": {},
   "outputs": [],
   "source": [
    "#Exercise 5: Check if the first and last numbers of a list are the same\n",
    "#Write a code to return True if the list’s first and last numbers are the same. If the numbers are different, return False.\n",
    "def first_last_same(numberList):\n",
    "    print(\"Given list:\", numberList)\n",
    "    \n",
    "    first_num = numberList[0]\n",
    "    last_num = numberList[-1]\n",
    "    \n",
    "    if first_num == last_num:\n",
    "        return True\n",
    "    else:\n",
    "        return False\n",
    "\n",
    "numbers_x = [10, 20, 30, 40, 10]\n",
    "print(\"result is\", first_last_same(numbers_x))\n",
    "\n",
    "numbers_y = [75, 65, 35, 75, 30]\n",
    "print(\"result is\", first_last_same(numbers_y))"
   ]
  },
  {
   "cell_type": "code",
   "execution_count": 11,
   "id": "0f92260e",
   "metadata": {},
   "outputs": [
    {
     "name": "stdout",
     "output_type": "stream",
     "text": [
      "Given list: [10, 20, 33, 46, 55]\n",
      "Divisible by 5:\n",
      "10\n",
      "20\n",
      "55\n"
     ]
    }
   ],
   "source": [
    "#Exercise 6: Display numbers divisible by 5\n",
    "#Write a Python code to display numbers from a list divisible by 5\n",
    "num_list = [10, 20, 33, 46, 55]\n",
    "print(\"Given list:\", num_list)\n",
    "print('Divisible by 5:')\n",
    "for num in num_list:\n",
    "    if num % 5 == 0:\n",
    "        print(num)"
   ]
  },
  {
   "cell_type": "code",
   "execution_count": null,
   "id": "f465455d",
   "metadata": {},
   "outputs": [],
   "source": [
    "#Exercise 7: Find the number of occurrences of a substring in a string\n",
    "#Write a Python code to find how often the substring “Emma” appears in the given string.\n",
    "str_x = \"Emma is good developer. Emma is a writer\"\n",
    "# use count method of a str class\n",
    "cnt = str_x.count(\"Emma\")\n",
    "print(cnt)"
   ]
  },
  {
   "cell_type": "code",
   "execution_count": 12,
   "id": "72123b14",
   "metadata": {},
   "outputs": [
    {
     "name": "stdout",
     "output_type": "stream",
     "text": [
      "\n",
      "\n",
      "1 \n",
      "\n",
      "2 2 \n",
      "\n",
      "3 3 3 \n",
      "\n",
      "4 4 4 4 \n",
      "\n",
      "5 5 5 5 5 \n",
      "\n",
      "6 6 6 6 6 6 \n",
      "\n",
      "7 7 7 7 7 7 7 \n",
      "\n",
      "8 8 8 8 8 8 8 8 \n",
      "\n",
      "9 9 9 9 9 9 9 9 9 \n",
      "\n"
     ]
    }
   ],
   "source": [
    "#Exercise 8: Print the following pattern\n",
    "\n",
    "for num in range(10):\n",
    "    for i in range(num):\n",
    "        print (num, end=\" \") # print number\n",
    "    # new line after each row to display pattern correctly\n",
    "    print(\"\\n\")"
   ]
  },
  {
   "cell_type": "code",
   "execution_count": 14,
   "id": "989ef12a",
   "metadata": {},
   "outputs": [
    {
     "name": "stdout",
     "output_type": "stream",
     "text": [
      "True\n",
      "False\n"
     ]
    }
   ],
   "source": [
    "#Exercise 9: Check Palindrome Number\n",
    "#Write a Python code to check if the given number is a palindrome. A palindrome number reads the same forwards and backward.\n",
    "def is_palindrome(number):\n",
    "\n",
    "  # Handle negative numbers (they are typically not palindromes)\n",
    "  if number < 0:\n",
    "    return False\n",
    "\n",
    "  # Convert the number to a string\n",
    "  original_string = str(number)\n",
    "\n",
    "  # Reverse the string using slicing\n",
    "  reversed_string = original_string[::-1]\n",
    "\n",
    "  # Compare the original and reversed strings\n",
    "  if original_string == reversed_string:\n",
    "    return True\n",
    "  else:\n",
    "    return False\n",
    "\n",
    "# Example usage:\n",
    "print(is_palindrome(121))   # Output: True\n",
    "print(is_palindrome(123))   # Output: False"
   ]
  },
  {
   "cell_type": "code",
   "execution_count": 15,
   "id": "9b77eb4a",
   "metadata": {},
   "outputs": [
    {
     "name": "stdout",
     "output_type": "stream",
     "text": [
      "result list: [25, 35, 40, 60, 90]\n"
     ]
    }
   ],
   "source": [
    "#Exercise 10: Merge two lists using the following\n",
    "#Given two lists of numbers, write Python code to create a new list containing odd numbers from the first list and even numbers from the second list.\n",
    "def merge_list(list1, list2):\n",
    "    result_list = []\n",
    "    \n",
    "    # iterate first list\n",
    "    for num in list1:\n",
    "        # check if current number is odd\n",
    "        if num % 2 != 0:\n",
    "            # add odd number to result list\n",
    "            result_list.append(num)\n",
    "    \n",
    "    # iterate second list\n",
    "    for num in list2:\n",
    "        # check if current number is even\n",
    "        if num % 2 == 0:\n",
    "            # add even number to result list\n",
    "            result_list.append(num)\n",
    "    return result_list\n",
    "\n",
    "list1 = [10, 20, 25, 30, 35]\n",
    "list2 = [40, 45, 60, 75, 90]\n",
    "print(\"result list:\", merge_list(list1, list2))"
   ]
  },
  {
   "cell_type": "code",
   "execution_count": null,
   "id": "5fcc1685",
   "metadata": {},
   "outputs": [],
   "source": [
    "#Exercise 11: Get each digit from a number in the reverse order.\n",
    "#For example, If the given integer number is 7536, the output shall be “6 3 5 7“, with a space separating the digits.\n",
    "number = 7536\n",
    "print(\"Given number\", number)\n",
    "while number > 0:\n",
    "    # get the last digit\n",
    "    digit = number % 10\n",
    "    # remove the last digit and repeat the loop\n",
    "    number = number // 10\n",
    "    print(digit, end=\" \")"
   ]
  },
  {
   "cell_type": "code",
   "execution_count": 16,
   "id": "46f3b0dd",
   "metadata": {},
   "outputs": [
    {
     "name": "stdout",
     "output_type": "stream",
     "text": [
      "Given income 45000\n",
      "Total tax to pay is 6000.0\n"
     ]
    }
   ],
   "source": [
    "#Exercise 12: Calculate income tax\n",
    "income = 45000\n",
    "tax_payable = 0\n",
    "print(\"Given income\", income)\n",
    "\n",
    "if income <= 10000:\n",
    "    tax_payable = 0\n",
    "elif income <= 20000:\n",
    "    # no tax on first 10,000\n",
    "    x = income - 10000\n",
    "    # 10% tax\n",
    "    tax_payable = x * 10 / 100\n",
    "else:\n",
    "    # first 10,000\n",
    "    tax_payable = 0\n",
    "\n",
    "    # next 10,000 10% tax\n",
    "    tax_payable = 10000 * 10 / 100\n",
    "\n",
    "    # remaining 20%tax\n",
    "    tax_payable += (income - 20000) * 20 / 100\n",
    "\n",
    "print(\"Total tax to pay is\", tax_payable)"
   ]
  },
  {
   "cell_type": "code",
   "execution_count": 21,
   "id": "4790f812",
   "metadata": {},
   "outputs": [
    {
     "name": "stdout",
     "output_type": "stream",
     "text": [
      "1 2 3 4 5 6 7 8 9 10 \t\n",
      "2 4 6 8 10 12 14 16 18 20 \t\n",
      "3 6 9 12 15 18 21 24 27 30 \t\n",
      "4 8 12 16 20 24 28 32 36 40 \t\n",
      "5 10 15 20 25 30 35 40 45 50 \t\n",
      "6 12 18 24 30 36 42 48 54 60 \t\n",
      "7 14 21 28 35 42 49 56 63 70 \t\n",
      "8 16 24 32 40 48 56 64 72 80 \t\n",
      "9 18 27 36 45 54 63 72 81 90 \t\n",
      "10 20 30 40 50 60 70 80 90 100 \t\n"
     ]
    }
   ],
   "source": [
    "#Exercise 13: Print multiplication table from 1 to 10\n",
    "#Write a code to generates a complete multiplication table for numbers 1 through 10.\n",
    "for i in range(1, 11):\n",
    "    for j in range(1, 11):\n",
    "        print(i * j, end=\" \")\n",
    "    print(\"\\t\")"
   ]
  },
  {
   "cell_type": "code",
   "execution_count": 24,
   "id": "cbf06e07",
   "metadata": {},
   "outputs": [
    {
     "name": "stdout",
     "output_type": "stream",
     "text": [
      "* * * * *  \n",
      "* * * *  \n",
      "* * *  \n",
      "* *  \n",
      "*  \n",
      " \n"
     ]
    }
   ],
   "source": [
    "#Exercise 14: Print a downward half-pyramid pattern of stars\n",
    "for i in range(6, 0, -1):\n",
    "    for j in range(0, i - 1):\n",
    "        print(\"*\", end=' ')\n",
    "    print(\" \")"
   ]
  },
  {
   "cell_type": "code",
   "execution_count": 25,
   "id": "7fdbb752",
   "metadata": {},
   "outputs": [
    {
     "name": "stdout",
     "output_type": "stream",
     "text": [
      "5 raises to the power of 4 is:  625\n"
     ]
    }
   ],
   "source": [
    "#Exercise 15: Get an int value of base raises to the power of exponent\n",
    "#Write a function called exponent(base, exp) that returns an int value of base raises to the power of exp.\n",
    "def exponent(base, exp):\n",
    "    num = exp\n",
    "    result = 1\n",
    "    while num > 0:\n",
    "        result = result * base\n",
    "        num = num - 1\n",
    "    print(base, \"raises to the power of\", exp, \"is: \", result)\n",
    "\n",
    "exponent(5, 4)"
   ]
  },
  {
   "cell_type": "code",
   "execution_count": 26,
   "id": "aab8dacc",
   "metadata": {},
   "outputs": [
    {
     "name": "stdout",
     "output_type": "stream",
     "text": [
      "True\n",
      "False\n"
     ]
    }
   ],
   "source": [
    "#Exercise 16: Check Palindrome Number\n",
    "#A palindrome number is a number that remains the same when its digits are reversed. In simpler terms, it reads the same forwards and backward.\n",
    "def is_palindrome_while_loop(number):\n",
    "  \n",
    "    original_number = number\n",
    "    reversed_number = 0\n",
    "\n",
    "    while number > 0:\n",
    "        remainder = number % 10\n",
    "        reversed_number = (reversed_number * 10) + remainder\n",
    "        number //= 10\n",
    "\n",
    "    return original_number == reversed_number\n",
    "\n",
    "# Example usage:\n",
    "print(is_palindrome_while_loop(121))   # Output: True\n",
    "print(is_palindrome_while_loop(123))   # Output: False"
   ]
  },
  {
   "cell_type": "code",
   "execution_count": 27,
   "id": "5cd5bd77",
   "metadata": {},
   "outputs": [
    {
     "name": "stdout",
     "output_type": "stream",
     "text": [
      "Fibonacci sequence:\n",
      "0  1  1  2  3  5  8  13  21  34  55  89  144  233  377  "
     ]
    }
   ],
   "source": [
    "#Exercise 17: Generate Fibonacci series up to 15 terms\n",
    "# first two numbers\n",
    "num1, num2 = 0, 1\n",
    "\n",
    "print(\"Fibonacci sequence:\")\n",
    "# run loop 15 times\n",
    "for i in range(15):\n",
    "    # print next number of a series\n",
    "    print(num1, end=\"  \")\n",
    "    # add last two numbers to get next number\n",
    "    res = num1 + num2\n",
    "\n",
    "    # update values\n",
    "    num1 = num2\n",
    "    num2 = res"
   ]
  },
  {
   "cell_type": "code",
   "execution_count": 28,
   "id": "912da9e5",
   "metadata": {},
   "outputs": [
    {
     "name": "stdout",
     "output_type": "stream",
     "text": [
      "Year 2020\n",
      "True\n",
      "Year 2025\n",
      "False\n"
     ]
    }
   ],
   "source": [
    "#Exercise 18: Check if a given year is a leap year\n",
    "#Rules for leap years: a year is a leap year if it’s divisible by 4, unless it’s also divisible by 100 but not by 400.\n",
    "def is_leap_year(year):\n",
    "  \"\"\"\n",
    "  Returns:\n",
    "    True if the year is a leap year, False otherwise.\n",
    "  \"\"\"\n",
    "  print(\"Year\", year)\n",
    "  if year % 4 == 0:\n",
    "    if year % 100 == 0:\n",
    "      if year % 400 == 0:\n",
    "        return True\n",
    "      else:\n",
    "        return False\n",
    "    else:\n",
    "      return True\n",
    "  else:\n",
    "    return False\n",
    "\n",
    "# check\n",
    "print(is_leap_year(2020)) # True\n",
    "print(is_leap_year(2025)) # False"
   ]
  },
  {
   "cell_type": "code",
   "execution_count": 29,
   "id": "8d780112",
   "metadata": {},
   "outputs": [
    {
     "name": "stdout",
     "output_type": "stream",
     "text": [
      "All prime numbers from 1 to 20: [2, 3, 5, 7, 11, 13, 17, 19]\n",
      "Alternate prime numbers from 1 to 20:\n",
      "2\n",
      "5\n",
      "11\n",
      "17\n"
     ]
    }
   ],
   "source": [
    "#Exercise: 19: Print Alternate Prime Numbers till 20\n",
    "#A Prime Number is a number that can only be divided by itself and 1 without remainders (e.g., 2, 3, 5, 7, 11).\n",
    "# Function to check if a number is prime\n",
    "def is_prime(num):\n",
    "    if num < 2:\n",
    "        return False\n",
    "    for i in range(2, int(num ** 0.5) + 1):\n",
    "        if num % i == 0:\n",
    "            return False\n",
    "    return True\n",
    "\n",
    "# Set N\n",
    "n = 20\n",
    "primes = []  # List to store all prime numbers\n",
    "for num in range(2, n + 1):\n",
    "    if is_prime(num):\n",
    "        primes.append(num)\n",
    "\n",
    "# Printing all prime numbers\n",
    "print(f'All prime numbers from 1 to {n}: {primes}')\n",
    "\n",
    "# Printing alternate prime numbers from the list\n",
    "print(f'Alternate prime numbers from 1 to {n}:')\n",
    "\n",
    "for i in range(0, len(primes), 2):  # Step by 2 to get alternate primes\n",
    "    print(primes[i])"
   ]
  },
  {
   "cell_type": "code",
   "execution_count": 30,
   "id": "2c80d437",
   "metadata": {},
   "outputs": [
    {
     "name": "stdout",
     "output_type": "stream",
     "text": [
      "1 1 1 1 1 \n",
      "2 2 2 2 \n",
      "3 3 3 \n",
      "4 4 \n",
      "5 \n"
     ]
    }
   ],
   "source": [
    "#Exercise 20: Print Reverse Number Pattern\n",
    "def print_pattern(rows):  \n",
    "  for i in range(1, rows + 1):\n",
    "    for j in range(rows - i + 1):\n",
    "      print(i, end=\" \")\n",
    "    print()\n",
    "\n",
    "# Print the pattern with 5 rows\n",
    "print_pattern(5)"
   ]
  },
  {
   "cell_type": "code",
   "execution_count": 31,
   "id": "3af4bf51",
   "metadata": {},
   "outputs": [
    {
     "name": "stdout",
     "output_type": "stream",
     "text": [
      "The string contains at least one digit.\n"
     ]
    }
   ],
   "source": [
    "#Exercise 21: Check if a user-entered string contains any digits using a for loop\n",
    "def contains_digits(text):\n",
    "  \n",
    "  for char in text:\n",
    "    if '0' <= char <= '9':\n",
    "      return True  # Found a digit, so return True immediately\n",
    "  return False  # No digits found after checking all characters\n",
    "\n",
    "# Get input from the user\n",
    "user_string = input(\"Enter a string: \")\n",
    "\n",
    "if contains_digits(user_string):\n",
    "  print(\"The string contains at least one digit.\")\n",
    "else:\n",
    "  print(\"The string does not contain any digits.\")"
   ]
  },
  {
   "cell_type": "code",
   "execution_count": 32,
   "id": "19b31fe3",
   "metadata": {},
   "outputs": [
    {
     "name": "stdout",
     "output_type": "stream",
     "text": [
      "Capitalized string: Pynative.com Is For Python Lovers\n"
     ]
    }
   ],
   "source": [
    "#Exercise 22: Capitalize the first letter of each word in a string\n",
    "def capitalize_words(text):\n",
    "  \n",
    "  words = text.split()  # Split the string into a list of words\n",
    "  capitalized_words = [word.capitalize() for word in words]  # Capitalize each word\n",
    "  return \" \".join(capitalized_words)  # Join the capitalized words back into a string\n",
    "\n",
    "# Get input from the user\n",
    "str1 = \"pynative.com is for python lovers\"\n",
    "\n",
    "capitalized_string = capitalize_words(str1)\n",
    "print(\"Capitalized string:\", capitalized_string)"
   ]
  },
  {
   "cell_type": "code",
   "execution_count": null,
   "id": "988ffee3",
   "metadata": {},
   "outputs": [],
   "source": [
    "#Exercise 23: Create a simple countdown timer using a while loop.\n",
    "#Write a code to create a simple countdown timer of 5 seconds using a while loop.\n",
    "import time\n",
    "\n",
    "def countdown_timer(seconds):\n",
    "  \n",
    "  while seconds > 0:\n",
    "    print(f\"Time remaining: {seconds} seconds\")\n",
    "    time.sleep(1)  # Pause for 1 second\n",
    "    seconds -= 1\n",
    "\n",
    "  print(\"Time's up!\")\n",
    "\n",
    "# Get the countdown duration from the user\n",
    "duration = 5\n",
    "countdown_timer(duration)"
   ]
  },
  {
   "cell_type": "code",
   "execution_count": 4,
   "id": "2e6477b3",
   "metadata": {},
   "outputs": [
    {
     "name": "stdout",
     "output_type": "stream",
     "text": [
      "Printing current and previous number and their sum in a range(10)\n",
      "Current Number 1 Previous Number  0  Sum:  1\n",
      "Current Number 2 Previous Number  1  Sum:  3\n",
      "Current Number 3 Previous Number  2  Sum:  5\n",
      "Current Number 4 Previous Number  3  Sum:  7\n",
      "Current Number 5 Previous Number  4  Sum:  9\n",
      "Current Number 6 Previous Number  5  Sum:  11\n",
      "Current Number 7 Previous Number  6  Sum:  13\n",
      "Current Number 8 Previous Number  7  Sum:  15\n",
      "Current Number 9 Previous Number  8  Sum:  17\n",
      "Current Number 10 Previous Number  9  Sum:  19\n"
     ]
    }
   ],
   "source": [
    "#Exercise 2: Print the Sum of a Current Number and a Previous number\n",
    "#Write Python code to iterate through the first 10 numbers and, in each iteration, print the sum of the current and previous number.\n",
    "print(\"Printing current and previous number and their sum in a range(10)\")\n",
    "previous_num = 0\n",
    "\n",
    "# loop from 1 to 10\n",
    "for i in range(1, 11):\n",
    "    x_sum = previous_num + i\n",
    "    print(\"Current Number\", i, \"Previous Number \", previous_num, \" Sum: \", x_sum)\n",
    "    # modify previous number\n",
    "    # set it to the current number\n",
    "    previous_num = i"
   ]
  }
 ],
 "metadata": {
  "kernelspec": {
   "display_name": "Python 3",
   "language": "python",
   "name": "python3"
  },
  "language_info": {
   "codemirror_mode": {
    "name": "ipython",
    "version": 3
   },
   "file_extension": ".py",
   "mimetype": "text/x-python",
   "name": "python",
   "nbconvert_exporter": "python",
   "pygments_lexer": "ipython3",
   "version": "3.13.3"
  }
 },
 "nbformat": 4,
 "nbformat_minor": 5
}
