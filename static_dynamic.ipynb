{
 "cells": [
  {
   "cell_type": "code",
   "execution_count": 11,
   "id": "710b307f",
   "metadata": {},
   "outputs": [
    {
     "name": "stdout",
     "output_type": "stream",
     "text": [
      "[3, 7, 11, 15, 19]\n"
     ]
    }
   ],
   "source": [
    "def addtwolist():\n",
    "    \n",
    "    list1=[2,4,6,8,10]\n",
    "    list2=[1,3,5,7,9]\n",
    "    added_list=[list1[i]+list2[i] for i in range(5)]\n",
    "    \n",
    "    return added_list\n",
    "\n",
    "result=addtwolist()\n",
    "print (result)"
   ]
  },
  {
   "cell_type": "code",
   "execution_count": 1,
   "id": "48663e4c",
   "metadata": {},
   "outputs": [
    {
     "name": "stdout",
     "output_type": "stream",
     "text": [
      "odd\n"
     ]
    }
   ],
   "source": [
    "def oddoreven(num):\n",
    "    \n",
    "    if num % 2 == 0:\n",
    "        print(\"even\") \n",
    "    else:\n",
    "        print(\"odd\")\n",
    "   \n",
    "oddoreven(45)"
   ]
  }
 ],
 "metadata": {
  "kernelspec": {
   "display_name": "Python 3",
   "language": "python",
   "name": "python3"
  },
  "language_info": {
   "codemirror_mode": {
    "name": "ipython",
    "version": 3
   },
   "file_extension": ".py",
   "mimetype": "text/x-python",
   "name": "python",
   "nbconvert_exporter": "python",
   "pygments_lexer": "ipython3",
   "version": "3.13.3"
  }
 },
 "nbformat": 4,
 "nbformat_minor": 5
}
