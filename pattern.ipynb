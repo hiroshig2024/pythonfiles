{
 "cells": [
  {
   "cell_type": "code",
   "execution_count": null,
   "id": "facbeae9",
   "metadata": {},
   "outputs": [
    {
     "name": "stdout",
     "output_type": "stream",
     "text": [
      "* * * * *  \n",
      "* * * *  \n",
      "* * *  \n",
      "* *  \n",
      "*  \n",
      " \n"
     ]
    }
   ],
   "source": [
    "for x in range (6,0,-1):\n",
    "    for y in  range (0,x-1):\n",
    "        print (\"*\",end = \" \")\n",
    "    print (\" \")\n",
    "        \n"
   ]
  },
  {
   "cell_type": "code",
   "execution_count": 18,
   "id": "db4e4f9a",
   "metadata": {},
   "outputs": [
    {
     "name": "stdout",
     "output_type": "stream",
     "text": [
      "*  \n",
      "* *  \n",
      "* * *  \n",
      "* * * *  \n",
      "* * * * *  \n"
     ]
    }
   ],
   "source": [
    "for x in range (0,5,1):\n",
    "    for y in range (0,x+1):\n",
    "         print (\"*\",end = \" \")\n",
    "    print (\" \")"
   ]
  },
  {
   "cell_type": "code",
   "execution_count": 20,
   "id": "fb2f5f93",
   "metadata": {},
   "outputs": [
    {
     "name": "stdout",
     "output_type": "stream",
     "text": [
      "*****\n",
      "****\n",
      "***\n",
      "**\n",
      "*\n",
      "**\n",
      "***\n",
      "****\n",
      "*****\n"
     ]
    }
   ],
   "source": [
    "def pattern():\n",
    "    for i in range (5,0,-1):\n",
    "        print('*' * i)\n",
    "    for i in range (2,6):\n",
    "        print('*' * i)\n",
    "            \n",
    "pattern()\n",
    "\n",
    "\n",
    "              \n"
   ]
  },
  {
   "cell_type": "code",
   "execution_count": 21,
   "id": "c3074f3f",
   "metadata": {},
   "outputs": [
    {
     "name": "stdout",
     "output_type": "stream",
     "text": [
      "********\n",
      "*******\n",
      "******\n",
      "*****\n",
      "****\n",
      "***\n",
      "**\n",
      "*\n",
      "**\n",
      "***\n",
      "****\n",
      "*****\n",
      "******\n",
      "*******\n",
      "********\n"
     ]
    }
   ],
   "source": [
    "def pattern(n):\n",
    "    for i in range (n,0,-1):\n",
    "        print('*' * i)\n",
    "    for i in range (2,n+1):\n",
    "        print('*' * i)\n",
    "\n",
    "\n",
    "number_of_stars=int(input('enter the number of stars: '))\n",
    "pattern(number_of_stars)\n"
   ]
  }
 ],
 "metadata": {
  "kernelspec": {
   "display_name": "Python 3",
   "language": "python",
   "name": "python3"
  },
  "language_info": {
   "codemirror_mode": {
    "name": "ipython",
    "version": 3
   },
   "file_extension": ".py",
   "mimetype": "text/x-python",
   "name": "python",
   "nbconvert_exporter": "python",
   "pygments_lexer": "ipython3",
   "version": "3.12.7"
  }
 },
 "nbformat": 4,
 "nbformat_minor": 5
}
